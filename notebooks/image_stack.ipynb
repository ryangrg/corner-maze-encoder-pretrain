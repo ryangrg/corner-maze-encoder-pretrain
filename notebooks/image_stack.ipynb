{
 "cells": [
  {
   "cell_type": "code",
   "execution_count": null,
   "id": "211132ca",
   "metadata": {},
   "outputs": [],
   "source": [
    "import torch\n",
    "from pathlib import Path\n",
    "from PIL import Image, ImageFilter\n",
    "import numpy as np\n"
   ]
  },
  {
   "cell_type": "code",
   "execution_count": null,
   "id": "175b04c9",
   "metadata": {},
   "outputs": [],
   "source": [
    "DATA_DIR = Path(\"../data/images\")\n",
    "png_paths = sorted(DATA_DIR.glob(\"**/*.png\"))\n",
    "\n",
    "if not png_paths:\n",
    "    print(f\"No PNG files found in {DATA_DIR.resolve()}\")\n",
    "else:\n",
    "    pairs = {}\n",
    "    for path in png_paths:\n",
    "        stem = path.stem\n",
    "        try:\n",
    "            base, eye = stem.rsplit(\"_\", 1)\n",
    "        except ValueError:\n",
    "            print(f\"Skipping {path.name}: unable to parse eye suffix\")\n",
    "            continue\n",
    "        eye = eye.lower()\n",
    "        if eye not in {\"left\", \"right\"}:\n",
    "            print(f\"Skipping {path.name}: unexpected eye tag {eye!r}\")\n",
    "            continue\n",
    "        pairs.setdefault(base, {})[eye] = path\n",
    "\n",
    "    stacks = []\n",
    "    metadata = []\n",
    "    for base, eyes in sorted(pairs.items()):\n",
    "        if {\"left\", \"right\"} <= eyes.keys():\n",
    "            with Image.open(eyes[\"left\"]) as left_img:\n",
    "                left_gray = left_img.convert(\"L\")\n",
    "                left_blurred = left_gray.filter(ImageFilter.GaussianBlur(radius=1.5))\n",
    "                left_array = np.array(left_blurred, dtype=np.float32) / 255.0\n",
    "\n",
    "            with Image.open(eyes[\"right\"]) as right_img:\n",
    "                right_gray = right_img.convert(\"L\")\n",
    "                right_blurred = right_gray.filter(ImageFilter.GaussianBlur(radius=1.5))\n",
    "                right_mirrored = right_blurred.transpose(Image.FLIP_LEFT_RIGHT)\n",
    "                right_array = np.array(right_mirrored, dtype=np.float32) / 255.0\n",
    "\n",
    "            left_tensor = torch.from_numpy(left_array).unsqueeze(0)\n",
    "            right_tensor = torch.from_numpy(right_array).unsqueeze(0)\n",
    "            stacked = torch.stack([left_tensor, right_tensor], dim=0)\n",
    "            stacks.append(stacked)\n",
    "            metadata.append(base)\n",
    "        else:\n",
    "            missing = {\"left\", \"right\"} - eyes.keys()\n",
    "            missing_list = \", \".join(sorted(missing))\n",
    "            print(f\"Skipping {base}: missing {missing_list} eye image\")\n",
    "\n",
    "    if stacks:\n",
    "        image_stack = torch.stack(stacks)\n",
    "        print(\"Image stack shape:\", tuple(image_stack.shape))\n",
    "        print(\"First few entries:\", metadata[:5])\n",
    "    else:\n",
    "        print(\"No complete left/right eye pairs found.\")\n"
   ]
  }
 ],
 "metadata": {
  "kernelspec": {
   "display_name": "Python 3",
   "language": "python",
   "name": "python3"
  },
  "language_info": {
   "codemirror_mode": {
    "name": "ipython",
    "version": 3
   },
   "file_extension": ".py",
   "mimetype": "text/x-python",
   "name": "python",
   "nbconvert_exporter": "python",
   "pygments_lexer": "ipython3",
   "version": "3.11"
  }
 },
 "nbformat": 4,
 "nbformat_minor": 5
}
